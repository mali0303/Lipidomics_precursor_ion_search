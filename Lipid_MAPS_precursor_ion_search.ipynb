{
 "cells": [
  {
   "cell_type": "code",
   "execution_count": null,
   "metadata": {},
   "outputs": [],
   "source": [
    "import requests\n",
    "import pandas as pd\n",
    "import io\n",
    "\n",
    "df_f = pd.DataFrame()\n",
    "df_0 = pd.read_csv('precursor_ions.csv')\n",
    "print(\"\\nYou relax for now and let me take care of the work! :) \\n\")\n",
    "for i in df_0.itertuples():\n",
    "    t = str(i[2])\n",
    "    m = str(i[1])\n",
    "    ion_types = ['M+H','M+H-H2O','M+Na','M+NH4','M+K','M+2H','M+2Na','M+2Na-H','M+Li','M-H','M.Cl','M.HCOO','M.OAc','M-CH3','M-2H','M-3H']\n",
    "    for ion in ion_types:\n",
    "        url = 'https://www.lipidmaps.org/rest/moverz/LMSD/' + m + '/' + ion + '/' + t + '/txt'\n",
    "        res = requests.get(url)\n",
    "        data = io.StringIO(res.text[7:-8])\n",
    "        df_1 = pd.read_csv(data, sep=\"\\t\")\n",
    "        df_f = pd.concat([df_f, df_1], ignore_index=True)\n",
    "\n",
    "df_f.to_csv('Results.csv')\n",
    "print('\\nMy job is finished. Your results should be ready :) \\nCheck the folder for the \"Results.csv\" where you saved this python file')"
   ]
  }
 ],
 "metadata": {
  "kernelspec": {
   "display_name": "Python 3",
   "language": "python",
   "name": "python3"
  },
  "language_info": {
   "codemirror_mode": {
    "name": "ipython",
    "version": 3
   },
   "file_extension": ".py",
   "mimetype": "text/x-python",
   "name": "python",
   "nbconvert_exporter": "python",
   "pygments_lexer": "ipython3",
   "version": "3.7.6"
  }
 },
 "nbformat": 4,
 "nbformat_minor": 4
}
